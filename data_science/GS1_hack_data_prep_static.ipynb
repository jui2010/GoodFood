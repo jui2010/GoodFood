{
 "cells": [
  {
   "cell_type": "code",
   "execution_count": 1,
   "metadata": {},
   "outputs": [],
   "source": [
    "# conda create --no-default-packages -n co2e python=3.7 pandas numpy scipy scikit-learn matplotlib requests\n",
    "# source activate co2e \n",
    "# pip install jupyterlab\n",
    "# python -m ipykernel install --user --name co2e --display-name \"CO2e 3.7\""
   ]
  },
  {
   "cell_type": "code",
   "execution_count": 2,
   "metadata": {},
   "outputs": [],
   "source": [
    "import sys\n",
    "import os\n",
    "import re\n",
    "\n",
    "import glob\n",
    "import numpy as np\n",
    "import pandas as pd\n",
    "\n",
    "import requests \n",
    "import json\n",
    "\n",
    "from pulp import LpProblem, LpMinimize, LpVariable, lpSum,  LpStatus\n",
    "\n",
    "with open('config.json') as config_file:\n",
    "    conf = json.load(config_file)\n",
    "    \n",
    "PATH_TO_ATRIFY_EXPORT = conf['PATH_TO_ATRIFY_EXPORT']\n",
    "ATRIFY_API_KEY = conf['ATRIFY_API_KEY']\n",
    "\n",
    "# pandas display options\n",
    "pd.set_option('display.max_columns', None)\n",
    "pd.set_option('display.max_rows', None)"
   ]
  },
  {
   "cell_type": "markdown",
   "metadata": {},
   "source": [
    "# Get German products"
   ]
  },
  {
   "cell_type": "code",
   "execution_count": 4,
   "metadata": {},
   "outputs": [],
   "source": [
    "path_to_folders = PATH_TO_ATRIFY_EXPORT\n",
    "\n",
    "c = 0\n",
    "json_files_all = []\n",
    "for folder in os.listdir(path_to_folders):\n",
    "\n",
    "    path_to_jsons = os.path.join(path_to_folders, folder)\n",
    "    json_files = [os.path.join(path_to_jsons, pos_json) for pos_json in os.listdir(path_to_jsons) if pos_json.endswith('.json')]\n",
    "    json_files_all = json_files_all + json_files\n",
    "    c += len(json_files)  \n"
   ]
  },
  {
   "cell_type": "markdown",
   "metadata": {},
   "source": [
    "# Product category CO2 lookup"
   ]
  },
  {
   "cell_type": "code",
   "execution_count": 5,
   "metadata": {},
   "outputs": [],
   "source": [
    "# based on product category footprint from UK and Danish sources: \n",
    "# - Tesco Supermarkets\n",
    "# - The Danish Ministry of Food, Agriculture and Fisheries\n",
    "# - https://www.taylorfrancis.com/books/e/9781351208475/chapters/10.1201/9781351208475-22\n",
    "# - 'T1 - Systematic review of greenhouse gas emissions for different fresh food categories. AU - Stephen Clune, Enda Crossin, Karli Verghese.  PY - 2016/04/19\n",
    "\n",
    "co2e_kg = {'Alternative Meat/Poultry/Other Animal Sausages - Prepared/Processed': 6,\n",
    " 'Alternative Meat/Poultry/Other Animals Species - Prepared/Processed': 6,\n",
    " 'Baking/Cooking Supplies (Frozen)': 1.5,\n",
    " 'Baking/Cooking Supplies (Shelf Stable)': 1.5, \n",
    " 'Beef - Prepared/Processed': 18,\n",
    " 'Biscuits/Cookies (Frozen)': 2.5, \n",
    " 'Biscuits/Cookies (Shelf Stable)': 2.5,\n",
    " 'Bread (Frozen)': 1.25, \n",
    " 'Bread/Bakery Products Variety Packs': 1.25,\n",
    " 'Cereal/Grain/Pulse Products Variety Packs': 1.25,\n",
    " 'Chicken - Prepared/Processed': 1.476, \n",
    " 'Chicken - Unprepared/Unprocessed': 2.65,\n",
    " 'Chocolate and Chocolate/Sugar Candy Combinations - Confectionery': 5,\n",
    " 'Confectionery Based Spreads (Shelf Stable)': 5,\n",
    " 'Confectionery Products Variety Packs': 5,\n",
    "  'Desserts (Frozen)': 5,\n",
    " 'Dough Based Products / Meals - Not Ready to Eat - Savoury (Frozen)': 2,\n",
    " 'Dried Breads (Shelf Stable)': 1.1105,\n",
    " 'Egg Based Products / Meals - Not Ready to Eat (Frozen)': 6.9,\n",
    " 'Fish - Prepared/Processed (Frozen)': 6.9,\n",
    " 'Fish - Prepared/Processed (Perishable)': 6.9,\n",
    " 'Flour - Cereal/Pulse (Shelf Stable)': 1.1,\n",
    " 'Food/Beverage/Tobacco Variety Packs': 2.5,\n",
    " 'Fruit - Unprepared/Unprocessed (Frozen)': 2.13,\n",
    " 'Fruit/Nuts/Seeds Mixes - Prepared/Processed (Shelf Stable)': 1,\n",
    " 'Grain Based Products / Meals - Not Ready to Eat - Savoury (Frozen)': 1,\n",
    " 'Grain Based Products / Meals - Not Ready to Eat - Savoury (Shelf Stable)': 1,\n",
    " 'Ice Cream/Ice Novelties (Frozen)': 1,\n",
    " 'Meat Substitutes (Frozen)': 2.8,\n",
    "'Oils/Fats Edible Variety Packs': 9.5,\n",
    " 'Other Sauces Dipping/Condiments/Savoury Toppings/Savoury Spreads/Marinades (Perishable)': 2,\n",
    " 'Other Sauces Dipping/Condiments/Savoury Toppings/Savoury Spreads/Marinades (Shelf Stable)': 2 ,\n",
    " 'Pasta/Noodles - Not Ready to Eat (Frozen)': 2.8, \n",
    " 'Pickled Vegetables': 1.5,\n",
    " 'Pies/Pastries - Sweet (Frozen)': 3, \n",
    " 'Pies/Pastries - Sweet (Shelf Stable)': 3,\n",
    " 'Pies/Pastries/Pizzas/Quiches - Savoury (Frozen)':5 ,\n",
    " 'Pork - Prepared/Processed': 3.6, \n",
    " 'Pork Sausages - Prepared/Processed': 3.6,\n",
    " 'Potatoes': 0.37, \n",
    " 'Prepared/Preserved Foods Variety Packs': 3,\n",
    " 'Sauces - Cooking (Shelf Stable)': 2.25, \n",
    " 'Snacks Variety Packs': 2,\n",
    " 'Soups - Prepared (Shelf Stable)': 2, \n",
    " 'Storage/Haulage Boxes (Empty)': 3,\n",
    " 'Sugar/Sugar Substitutes (Shelf Stable)': 1, \n",
    " 'Sweet Potatoes': 0.37,\n",
    " 'Tomato Ketchup/Ketchup Substitutes (Shelf Stable)':  2.25,\n",
    " 'Turkey - Prepared/Processed': 1.476, \n",
    " 'Veal - Prepared/Processed': 19,\n",
    " 'Vegetable Based Products / Meals - Not Ready to Eat (Frozen)': 3,\n",
    " 'Vegetable Based Products / Meals - Ready to Eat (Perishable)': 1.17,\n",
    " 'Vegetables - Prepared/Processed (Frozen)': 2.13,\n",
    " 'Vegetables - Unprepared/Unprocessed (Frozen)': 1.25, \n",
    " 'Vinegars': 2.24}"
   ]
  },
  {
   "cell_type": "code",
   "execution_count": null,
   "metadata": {
    "scrolled": true
   },
   "outputs": [],
   "source": [
    "head = {\"accept\": \"application/json\", \"apikey\": ATRIFY_API_KEY}\n",
    "\n",
    "product_data = []\n",
    "product_data2 = []\n",
    "for file in json_files_all:\n",
    "\n",
    "    with open(file) as json_file:\n",
    "        f = json.load(json_file)\n",
    "        \n",
    "        # unique product identifier \n",
    "        gtin = f['tradeItem']['gtin']['_text']\n",
    "        # manufacturer identifier, use together with gtin and locale to retrieve product data via api\n",
    "        gln = f[\"tradeItem\"]['informationProviderOfTradeItem'][\"gln\"]['_text']\n",
    "        informationProviderOfTradeItem = f[\"tradeItem\"]['informationProviderOfTradeItem'][\"partyName\"]['_text']\n",
    "        # target market\n",
    "        tm = f[\"tradeItem\"][\"targetMarket\"][\"targetMarketCountryCode\"][\"_text\"]\n",
    "        \n",
    "        # product category code - maps to product hierarchy in api\n",
    "        gpcCategoryCode = f[\"tradeItem\"][\"gdsnTradeItemClassification\"][\"gpcCategoryCode\"]['_text']\n",
    "        gpcCategoryName = f[\"tradeItem\"][\"gdsnTradeItemClassification\"][\"gpcCategoryName\"]['_text']\n",
    "        \n",
    "        # \"Gluten Free Claim\" - replace for this later: nutritionalClaimNutrientElementCode + nutritionalClaimTypeCode \n",
    "        if '\"gpcAttributeTypeName\": {\"_text\": \"Gluten Free Claim\"}' in json.dumps(f):\n",
    "            gpcAttributeTypeName = \"Gluten Free Claim\"\n",
    "        else:\n",
    "            gpcAttributeTypeName = \"No Gluten Free Claim\"\n",
    "            \n",
    "        # Packaging: some wrong info\n",
    "        try:\n",
    "            packagingMaterialTypeCode = f[\"tradeItem\"][\"tradeItemInformation\"][\"extension\"][\"packagingInformationModule\"][\"packaging\"][0]['packagingMaterial'][\"packagingMaterialTypeCode\"][\"_text\"]\n",
    "        except:\n",
    "            # to b replaced with average\n",
    "            packagingMaterialTypeCode = \"No info\"\n",
    "            \n",
    "        # Organic\n",
    "        try:\n",
    "            organicClaim = f[\"tradeItem\"][\"tradeItemInformation\"][\"extension\"][\"farmingAndProcessingInformationModule\"][\"tradeItemOrganicInformation\"][\"organicClaim\"]['organicTradeItemCode'][\"_text\"]\n",
    "        except:\n",
    "            organicClaim = 0\n",
    "            \n",
    "        # net weight of product (without packaging) , use gross weight when not available\n",
    "        try:\n",
    "            measurementUnitCode = f[\"tradeItem\"][\"tradeItemInformation\"][\"extension\"][\"tradeItemMeasurementsModule\"]\\\n",
    "                            [\"tradeItemMeasurements\"][\"tradeItemWeight\"][\"netWeight\"][\"@measurementUnitCode\"]\n",
    "    \n",
    "            netWeight = f[\"tradeItem\"][\"tradeItemInformation\"][\"extension\"][\"tradeItemMeasurementsModule\"]\\\n",
    "                            [\"tradeItemMeasurements\"][\"tradeItemWeight\"][\"netWeight\"][\"_text\"] \n",
    "\n",
    "        except:\n",
    "            measurementUnitCode = f[\"tradeItem\"][\"tradeItemInformation\"][\"extension\"][\"tradeItemMeasurementsModule\"]\\\n",
    "                            [\"tradeItemMeasurements\"][\"tradeItemWeight\"]['grossWeight'][\"@measurementUnitCode\"]\n",
    "\n",
    "            netWeight = f[\"tradeItem\"][\"tradeItemInformation\"][\"extension\"][\"tradeItemMeasurementsModule\"]\\\n",
    "                            [\"tradeItemMeasurements\"][\"tradeItemWeight\"]['grossWeight'][\"_text\"]\n",
    "\n",
    "\n",
    "        if measurementUnitCode == 'GRM':\n",
    "            netWeight = float(netWeight)/1000\n",
    "        else:\n",
    "            netWeight = float(netWeight)\n",
    "\n",
    "        # get product name and nutriscore\n",
    "        response = requests.get(\"https://nutritions.lab.atrify.com/nutrition/{}\".format(gtin), headers=head) \n",
    "        \n",
    "        try:\n",
    "            resp = json.loads(response.text)\n",
    "            name = resp[\"name\"]\n",
    "            nutriScoreScore = resp[\"nutriScoreGrade\"]\n",
    "            fruitAndVegetablePercentage = resp[\"fruitAndVegetablePercentage\"]\n",
    "        except:\n",
    "            # non-food items\n",
    "            name = \"Unknown\"\n",
    "            nutriScoreScore = \"N/A\"\n",
    "            fruitAndVegetablePercentage = 0\n",
    "            \n",
    "        # plastic\n",
    "        if ((\"plastic\" in packagingMaterialTypeCode.lower()) or (\"polymer\" in packagingMaterialTypeCode.lower())):\n",
    "            plastic = \"Plastic\"\n",
    "        else:\n",
    "            plastic = \"No plastic\"\n",
    "        \n",
    "        \n",
    "        product_data_point = {\"gtin\": gtin, \n",
    "                              \"name\": name,\n",
    "                              \"gln\": gln,\n",
    "                              \"informationProviderOfTradeItem\": informationProviderOfTradeItem,\n",
    "                              \"tm\": tm,\n",
    "                              \"gpcCategoryCode\": gpcCategoryCode,\n",
    "                              \"gpcCategoryName\": gpcCategoryName,\n",
    "                              \"packagingMaterialTypeCode\": packagingMaterialTypeCode,\n",
    "                              \"organicClaim\": organicClaim,\n",
    "                              \"gpcAttributeTypeName\": gpcAttributeTypeName,\n",
    "                              \"netWeight\": netWeight,\n",
    "                              \"co2Category\":  netWeight*co2e_kg[gpcCategoryName],\n",
    "                              \"nutriScoreScore\": nutriScoreScore,\n",
    "                              \"fruitAndVegetablePercentage\": fruitAndVegetablePercentage,\n",
    "                              \"plastic\": plastic\n",
    "                             }\n",
    "\n",
    "        product_data.append(product_data_point)\n"
   ]
  },
  {
   "cell_type": "code",
   "execution_count": 10,
   "metadata": {},
   "outputs": [
    {
     "name": "stdout",
     "output_type": "stream",
     "text": [
      "{'gtin': '04260429002634', 'name': {'de': 'Naturreis (Langkorn)'}, 'gln': '4260429410002', 'informationProviderOfTradeItem': 'Nola GmbH', 'tm': '276', 'gpcCategoryCode': '10000601', 'gpcCategoryName': 'Cereal/Grain/Pulse Products Variety Packs', 'packagingMaterialTypeCode': 'POLYMER_LDPE', 'organicClaim': '5', 'gpcAttributeTypeName': 'No Gluten Free Claim', 'netWeight': 5.0, 'co2Category': 6.25, 'nutriScoreScore': 'A', 'fruitAndVegetablePercentage': 0, 'plastic': 'Plastic'}\n"
     ]
    }
   ],
   "source": [
    "print(product_data[0])"
   ]
  },
  {
   "cell_type": "code",
   "execution_count": 11,
   "metadata": {},
   "outputs": [],
   "source": [
    "with open('/home/elena/Dropbox/Plan8/GS1 Hack/product_data_v4.json', 'w') as fout:\n",
    "    json.dump(product_data , fout)"
   ]
  },
  {
   "cell_type": "markdown",
   "metadata": {},
   "source": [
    "# Product Recommendations"
   ]
  },
  {
   "cell_type": "code",
   "execution_count": null,
   "metadata": {},
   "outputs": [],
   "source": []
  },
  {
   "cell_type": "markdown",
   "metadata": {},
   "source": [
    "# Minimise CO2e for a given nutritional profile"
   ]
  },
  {
   "cell_type": "markdown",
   "metadata": {},
   "source": [
    "When we collect a month of purchase data, we can help users achieve their personal goals, such as: \n",
    "\n",
    "* reduce CO2 footprit whilst maintaining nutritional balance\n",
    "* reduce calories whilst maintaining nutritional balance\n",
    "* increase % frui & veg \n",
    "* reduce plastic and meat consumption whist maintaining protein levels\n",
    "\n",
    "How? By giving product and category proportions recommendations\n",
    "\n",
    "After collecting several months we will be able to see progress over time"
   ]
  },
  {
   "cell_type": "code",
   "execution_count": 67,
   "metadata": {},
   "outputs": [],
   "source": [
    "prob = LpProblem(\"Diet Nutri CO2e Problem\", LpMinimize)"
   ]
  },
  {
   "cell_type": "code",
   "execution_count": 68,
   "metadata": {},
   "outputs": [],
   "source": [
    "# Create a list of the food items\n",
    "food_items = list(df['gtin'])"
   ]
  },
  {
   "cell_type": "code",
   "execution_count": 69,
   "metadata": {},
   "outputs": [],
   "source": [
    "# Create a dictinary of Co2e for all food items\n",
    "costs = dict(zip(df['gtin'],df['co2Category']))"
   ]
  },
  {
   "cell_type": "code",
   "execution_count": 70,
   "metadata": {},
   "outputs": [],
   "source": [
    "# Create a dictionary of calories for all food items\n",
    "# testing with another numeric field...\n",
    "calories = dict(zip(df['gtin'],df['netWeight']))"
   ]
  },
  {
   "cell_type": "code",
   "execution_count": null,
   "metadata": {},
   "outputs": [],
   "source": [
    "# # Create a dictionary of total fat for all food items\n",
    "# fat = dict(zip(food_items,df['Total_Fat (g)']))"
   ]
  },
  {
   "cell_type": "code",
   "execution_count": null,
   "metadata": {},
   "outputs": [],
   "source": [
    "# # Create a dictionary of carbohydrates for all food items\n",
    "# carbs = dict(zip(food_items,df['Carbohydrates (g)']))"
   ]
  },
  {
   "cell_type": "code",
   "execution_count": 71,
   "metadata": {},
   "outputs": [],
   "source": [
    "# to avoid negative optimal food amounts\n",
    "food_vars = LpVariable.dicts(\"Food\",food_items,lowBound=0,cat='Continuous')"
   ]
  },
  {
   "cell_type": "code",
   "execution_count": 72,
   "metadata": {},
   "outputs": [],
   "source": [
    "# add the main objective function\n",
    "prob += lpSum([costs[i]*food_vars[i] for i in food_items])"
   ]
  },
  {
   "cell_type": "code",
   "execution_count": 73,
   "metadata": {},
   "outputs": [],
   "source": [
    "# swap fixed calorie constraints for values from user's shopping\n",
    "prob += lpSum([calories[f] * food_vars[f] for f in food_items]) >= 1000.0\n",
    "prob += lpSum([calories[f] * food_vars[f] for f in food_items]) <= 2000.0"
   ]
  },
  {
   "cell_type": "code",
   "execution_count": null,
   "metadata": {},
   "outputs": [],
   "source": [
    "# add 20% constraints on food groups (sum by prod category) - 20%*(sum by prod category)\n",
    "# because users are unlikely to dramatically change their behaviour"
   ]
  },
  {
   "cell_type": "code",
   "execution_count": null,
   "metadata": {},
   "outputs": [],
   "source": [
    "# # Fat\n",
    "# prob += lpSum([fat[f] * food_vars[f] for f in food_items]) >= 20.0, \"FatMinimum\"\n",
    "# prob += lpSum([fat[f] * food_vars[f] for f in food_items]) <= 50.0, \"FatMaximum\"\n",
    "\n",
    "# # Carbs\n",
    "# prob += lpSum([carbs[f] * food_vars[f] for f in food_items]) >= 130.0, \"CarbsMinimum\"\n",
    "# prob += lpSum([carbs[f] * food_vars[f] for f in food_items]) <= 200.0, \"CarbsMaximum\"\n",
    "\n",
    "# # Fiber\n",
    "# prob += lpSum([fiber[f] * food_vars[f] for f in food_items]) >= 60.0, \"FiberMinimum\"\n",
    "# prob += lpSum([fiber[f] * food_vars[f] for f in food_items]) <= 125.0, \"FiberMaximum\"\n",
    "\n",
    "# # Protein\n",
    "# prob += lpSum([protein[f] * food_vars[f] for f in food_items]) >= 100.0, \"ProteinMinimum\"\n",
    "# prob += lpSum([protein[f] * food_vars[f] for f in food_items]) <= 150.0, \"ProteinMaximum\"\n"
   ]
  },
  {
   "cell_type": "code",
   "execution_count": 74,
   "metadata": {},
   "outputs": [
    {
     "name": "stdout",
     "output_type": "stream",
     "text": [
      "Status: Optimal\n"
     ]
    }
   ],
   "source": [
    "prob.solve()\n",
    "print(\"Status:\", LpStatus[prob.status])"
   ]
  },
  {
   "cell_type": "code",
   "execution_count": 75,
   "metadata": {},
   "outputs": [
    {
     "name": "stdout",
     "output_type": "stream",
     "text": [
      "Food_NAS_Whole_Orange_Squash_3_litre = 0.033333333\n"
     ]
    }
   ],
   "source": [
    "for v in prob.variables():\n",
    "    if v.varValue>0:\n",
    "        print(v.name, \"=\", v.varValue)"
   ]
  }
 ],
 "metadata": {
  "kernelspec": {
   "display_name": "CO2e 3.7",
   "language": "python",
   "name": "co2e"
  },
  "language_info": {
   "codemirror_mode": {
    "name": "ipython",
    "version": 3
   },
   "file_extension": ".py",
   "mimetype": "text/x-python",
   "name": "python",
   "nbconvert_exporter": "python",
   "pygments_lexer": "ipython3",
   "version": "3.7.7"
  }
 },
 "nbformat": 4,
 "nbformat_minor": 4
}
